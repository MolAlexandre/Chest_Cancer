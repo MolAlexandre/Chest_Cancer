{
 "cells": [
  {
   "cell_type": "code",
   "execution_count": 1,
   "metadata": {},
   "outputs": [],
   "source": [
    "import os"
   ]
  },
  {
   "cell_type": "code",
   "execution_count": 2,
   "metadata": {},
   "outputs": [],
   "source": [
    "os.chdir('../')"
   ]
  },
  {
   "cell_type": "code",
   "execution_count": 3,
   "metadata": {},
   "outputs": [
    {
     "data": {
      "text/plain": [
       "'c:\\\\Users\\\\Vador66\\\\Project\\\\Chest_Cancer'"
      ]
     },
     "execution_count": 3,
     "metadata": {},
     "output_type": "execute_result"
    }
   ],
   "source": [
    "%pwd"
   ]
  },
  {
   "cell_type": "code",
   "execution_count": 19,
   "metadata": {},
   "outputs": [],
   "source": [
    "#entity\n",
    "from dataclasses import dataclass\n",
    "from pathlib import Path\n",
    "\n",
    "@dataclass(frozen=True)\n",
    "class TrainingConfig:\n",
    "    root_dir : Path\n",
    "    trained_model_path : Path\n",
    "    updated_base_model_path: Path\n",
    "    training_data : Path\n",
    "    params_is_augmentation : bool\n",
    "    params_image_size : list\n",
    "    params_batch_size : int\n",
    "    params_epochs : int"
   ]
  },
  {
   "cell_type": "code",
   "execution_count": 20,
   "metadata": {},
   "outputs": [],
   "source": [
    "from Chest_Cancer_Classifier.constants import *\n",
    "from Chest_Cancer_Classifier.utils.common import read_yaml, create_directories"
   ]
  },
  {
   "cell_type": "code",
   "execution_count": 26,
   "metadata": {},
   "outputs": [],
   "source": [
    "class ConfigurationManager:\n",
    "    def __init__(\n",
    "        self,\n",
    "        config_filepath = CONFIG_FILE_PATH,\n",
    "        params_filepath = PARAMS_FILE_PATH):\n",
    "\n",
    "        self.config = read_yaml(config_filepath)\n",
    "        self.params = read_yaml(params_filepath)\n",
    "\n",
    "        create_directories([self.config.artifacts_root])\n",
    "\n",
    "        \n",
    "\n",
    "    def get_training_config(self) -> TrainingConfig:\n",
    "        training = self.config.training\n",
    "        prepare_base_model = self.config.prepare_base_model\n",
    "        params = self.params\n",
    "        training_data = os.path.join(self.config.data_ingestion.unzip_dir, \"Data\")\n",
    "        create_directories([\n",
    "            Path(training.root_dir)\n",
    "        ])\n",
    "\n",
    "        training_config = TrainingConfig(\n",
    "            root_dir=Path(training.root_dir),\n",
    "            trained_model_path=Path(training.trained_model_path),\n",
    "            updated_base_model_path=Path(prepare_base_model.updated_base_model_path),\n",
    "            training_data=Path(training_data),\n",
    "            params_epochs=params.EPOCHS,\n",
    "            params_batch_size=params.BATCH_SIZE,\n",
    "            params_is_augmentation=params.AUGMENTATION,\n",
    "            params_image_size=params.IMAGE_SIZE\n",
    "        )\n",
    "\n",
    "        return training_config"
   ]
  },
  {
   "cell_type": "code",
   "execution_count": 14,
   "metadata": {},
   "outputs": [],
   "source": [
    "import os\n",
    "import urllib.request as request\n",
    "from zipfile import ZipFile\n",
    "import tensorflow as tf\n",
    "import time"
   ]
  },
  {
   "cell_type": "code",
   "execution_count": null,
   "metadata": {},
   "outputs": [],
   "source": [
    "#components\n",
    "class Training0:\n",
    "    def __init__(self, config:TrainingConfig):\n",
    "        self.config = config\n",
    "\n",
    "    def get_base_model(self):\n",
    "        self.model = tf.keras.models.load_model(self.config.updated_base_model_path)\n",
    "\n",
    "\n",
    "    #to split data in train and valid \n",
    "    def train_valid_generator(self):\n",
    "        # Arguments pour les Générateurs de Données\n",
    "        datagenerator_kwargs = dict(\n",
    "            rescale = 1./255,\n",
    "            validation_split=0 # for valid set\n",
    "        )\n",
    "\n",
    "        dataflow_kwargs = dict(\n",
    "            target_size=self.config.params_image_size[:-1],\n",
    "            batch_size=self.config.params_batch_size,\n",
    "            interpolation=\"bilinear\"\n",
    "        )\n",
    "        #Création du Générateur de Données pour la Validation pas besoin\n",
    "        '''valid_datagenerator = tf.keras.preprocessing.image.ImageDataGenerator(\n",
    "            **datagenerator_kwargs\n",
    "        )\n",
    "\n",
    "        self.valid_generator = valid_datagenerator.flow_from_directory(\n",
    "            directory=self.config.training_data,\n",
    "            subset=\"validation\",\n",
    "            shuffle=False,\n",
    "            **dataflow_kwargs\n",
    "        )'''\n",
    "        #Générateur de Données pour l'Entraînement avec ou sans Augmentation\n",
    "        if self.config.params_is_augmentation :\n",
    "            train_datagenerator = tf.keras.preprocessing.image.ImageDataGenerator(\n",
    "                rotation_range=40,\n",
    "                horizontal_flip=True,\n",
    "                width_shift_range=0.2,\n",
    "                height_shift_range=0.2,\n",
    "                shear_range=0.2,\n",
    "                zoom_range=0.2,\n",
    "                **datagenerator_kwargs\n",
    "                )\n",
    "        else : \n",
    "            train_datagenerator = tf.keras.preprocessing.image.ImageDataGenerator(**datagenerator_kwargs)\n",
    "        #else:\n",
    "        #   train_datagenerator = valid_datagenerator\n",
    "\n",
    "        #Flux de Données pour l'Entraînement\n",
    "        self.train_generator = train_datagenerator.flow_from_directory(\n",
    "            directory=self.config.training_data,\n",
    "            shuffle=True,\n",
    "            **dataflow_kwargs\n",
    "        )\n"
   ]
  },
  {
   "cell_type": "code",
   "execution_count": 15,
   "metadata": {},
   "outputs": [],
   "source": [
    " #from keras doc\n",
    "import os\n",
    "import numpy as np\n",
    "import keras\n",
    "from keras import layers\n",
    "from tensorflow import data as tf_data\n",
    "import matplotlib.pyplot as plt"
   ]
  },
  {
   "cell_type": "code",
   "execution_count": 27,
   "metadata": {},
   "outputs": [
    {
     "name": "stdout",
     "output_type": "stream",
     "text": [
      "[2024-08-28 15:57:49,341: INFO: common: yaml file: config\\config.yaml loaded successfully]\n",
      "[2024-08-28 15:57:49,343: INFO: common: yaml file: params.yaml loaded successfully]\n",
      "[2024-08-28 15:57:49,344: INFO: common: created directory at: artifacts]\n",
      "[2024-08-28 15:57:49,345: INFO: common: created directory at: artifacts\\training]\n"
     ]
    }
   ],
   "source": [
    "test = ConfigurationManager()\n",
    "training_model = test.get_training_config()"
   ]
  },
  {
   "cell_type": "code",
   "execution_count": 28,
   "metadata": {},
   "outputs": [
    {
     "data": {
      "text/plain": [
       "WindowsPath('artifacts/data_ingestion/Data')"
      ]
     },
     "execution_count": 28,
     "metadata": {},
     "output_type": "execute_result"
    }
   ],
   "source": [
    "training_model.training_data"
   ]
  },
  {
   "cell_type": "code",
   "execution_count": 39,
   "metadata": {},
   "outputs": [
    {
     "name": "stdout",
     "output_type": "stream",
     "text": [
      "Dossiers dans training_model.training_data:\n",
      "test\n",
      "train\n",
      "valid\n"
     ]
    }
   ],
   "source": [
    "# Chemin vers le répertoire de données d'entraînement\n",
    "training_data_path = training_model.training_data\n",
    "\n",
    "# Liste pour stocker les noms des dossiers\n",
    "folders = []\n",
    "\n",
    "# Parcourir les éléments dans le répertoire\n",
    "for item in os.listdir(training_data_path):\n",
    "    item_path = os.path.join(training_data_path, item)\n",
    "    if os.path.isdir(item_path):\n",
    "        folders.append(item)\n",
    "\n",
    "# Afficher les dossiers\n",
    "print(\"Dossiers dans training_model.training_data:\")\n",
    "for folder in folders:\n",
    "    print(folder)"
   ]
  },
  {
   "cell_type": "code",
   "execution_count": 31,
   "metadata": {},
   "outputs": [
    {
     "data": {
      "text/plain": [
       "['test', 'train', 'valid']"
      ]
     },
     "execution_count": 31,
     "metadata": {},
     "output_type": "execute_result"
    }
   ],
   "source": [
    "folders"
   ]
  },
  {
   "cell_type": "code",
   "execution_count": null,
   "metadata": {},
   "outputs": [],
   "source": [
    "import tensorflow as tf\n",
    "from keras.preprocessing.image import ImageDataGenerator\n",
    "from keras.preprocessing import image_dataset_from_directory"
   ]
  },
  {
   "cell_type": "code",
   "execution_count": 56,
   "metadata": {},
   "outputs": [],
   "source": [
    "train_datagen = ImageDataGenerator(\n",
    "        rescale = 1./255,\n",
    "        validation_split = 0.2,\n",
    "                                  \n",
    "        rotation_range=5,\n",
    "        width_shift_range=0.2,\n",
    "        height_shift_range=0.2,\n",
    "        shear_range=0.2,\n",
    "        #zoom_range=0.2,\n",
    "        horizontal_flip=True,\n",
    "        vertical_flip=True,\n",
    "        fill_mode='nearest')\n",
    "\n",
    "valid_datagen = ImageDataGenerator(rescale = 1./255,\n",
    "                                  validation_split = 0.2)\n",
    "\n",
    "test_datagen  = ImageDataGenerator(rescale = 1./255)"
   ]
  },
  {
   "cell_type": "code",
   "execution_count": 57,
   "metadata": {},
   "outputs": [
    {
     "name": "stdout",
     "output_type": "stream",
     "text": [
      "Found 613 images belonging to 4 classes.\n"
     ]
    }
   ],
   "source": [
    "train_dataset  = train_datagen.flow_from_directory(\n",
    "                    directory = os.path.join(training_model.training_data,'train'),\n",
    "                    target_size = (224,224),\n",
    "                    class_mode = 'categorical',\n",
    "                    batch_size = 64\n",
    "                    )"
   ]
  },
  {
   "cell_type": "code",
   "execution_count": 58,
   "metadata": {},
   "outputs": [
    {
     "name": "stdout",
     "output_type": "stream",
     "text": [
      "Found 72 images belonging to 4 classes.\n"
     ]
    }
   ],
   "source": [
    "val_dataset  = valid_datagen.flow_from_directory(\n",
    "                    directory = os.path.join(training_model.training_data,'valid'),\n",
    "                    target_size = (224,224),\n",
    "                    class_mode = 'categorical',\n",
    "                    batch_size = 64\n",
    "                    )"
   ]
  },
  {
   "cell_type": "code",
   "execution_count": 59,
   "metadata": {},
   "outputs": [
    {
     "name": "stdout",
     "output_type": "stream",
     "text": [
      "Found 315 images belonging to 4 classes.\n"
     ]
    }
   ],
   "source": [
    "test_dataset  = test_datagen.flow_from_directory(\n",
    "                    directory = os.path.join(training_model.training_data,'test'),\n",
    "                    target_size = (224,224),\n",
    "                    class_mode = 'categorical',\n",
    "                    batch_size = 64\n",
    "                    )"
   ]
  },
  {
   "cell_type": "code",
   "execution_count": 61,
   "metadata": {},
   "outputs": [],
   "source": [
    "class Training:\n",
    "    def __init__(self, config:TrainingConfig):\n",
    "        self.config = config\n",
    "\n",
    "    def get_base_model(self):\n",
    "        self.model = tf.keras.models.load_model(self.config.updated_base_model_path)\n",
    "\n",
    "    def train_valid_generator(self):\n",
    "\n",
    "        train_datagen = ImageDataGenerator(\n",
    "            rescale = 1./255,\n",
    "            validation_split = 0.2,\n",
    "                                    \n",
    "            rotation_range=5,\n",
    "            width_shift_range=0.2,\n",
    "            height_shift_range=0.2,\n",
    "            shear_range=0.2,\n",
    "            #zoom_range=0.2,\n",
    "            horizontal_flip=True,\n",
    "            vertical_flip=True,\n",
    "            fill_mode='nearest')\n",
    "\n",
    "        valid_datagen = ImageDataGenerator(rescale = 1./255,\n",
    "                                        validation_split = 0.2)\n",
    "\n",
    "        test_datagen  = ImageDataGenerator(rescale = 1./255)\n",
    "\n",
    "        self.train_dataset  = train_datagen.flow_from_directory(\n",
    "                    directory = os.path.join(self.config.training_data,'train'),\n",
    "                    target_size = (224,224),\n",
    "                    class_mode = 'categorical',\n",
    "                    batch_size = self.config.params_batch_size\n",
    "                    )\n",
    "        self.val_dataset  = valid_datagen.flow_from_directory(\n",
    "                    directory = os.path.join(self.config.training_data,'valid'),\n",
    "                    target_size = (224,224),\n",
    "                    class_mode = 'categorical',\n",
    "                    batch_size = self.config.params_batch_size\n",
    "                    )\n",
    "        self.test_dataset  = test_datagen.flow_from_directory(\n",
    "                    directory = os.path.join(self.config.training_data,'test'),\n",
    "                    target_size = (224,224),\n",
    "                    class_mode = 'categorical',\n",
    "                    batch_size = self.config.params_batch_size\n",
    "                    )\n",
    "        \n",
    "    @staticmethod\n",
    "    def save_model(path: Path, model: tf.keras.Model):\n",
    "        model.save(path)\n",
    "    \n",
    "    def train(self):\n",
    "        self.steps_per_epoch = self.train_dataset.samples // self.train_dataset.batch_size\n",
    "        self.validation_steps = self.val_dataset.samples // self.val_dataset.batch_size\n",
    "\n",
    "        self.model.fit(\n",
    "            self.train_dataset,\n",
    "            epochs=self.config.params_epochs,\n",
    "            steps_per_epoch=self.steps_per_epoch,\n",
    "            validation_steps=self.validation_steps,\n",
    "            validation_data=self.val_dataset\n",
    "        )\n",
    "\n",
    "        self.save_model(\n",
    "            path=self.config.trained_model_path,\n",
    "            model=self.model\n",
    "        )"
   ]
  },
  {
   "cell_type": "code",
   "execution_count": 64,
   "metadata": {},
   "outputs": [
    {
     "name": "stdout",
     "output_type": "stream",
     "text": [
      "[2024-08-28 17:02:45,819: INFO: common: yaml file: config\\config.yaml loaded successfully]\n",
      "[2024-08-28 17:02:45,822: INFO: common: yaml file: params.yaml loaded successfully]\n",
      "[2024-08-28 17:02:45,823: INFO: common: created directory at: artifacts]\n",
      "[2024-08-28 17:02:45,824: INFO: common: created directory at: artifacts\\training]\n",
      "Found 613 images belonging to 4 classes.\n",
      "Found 72 images belonging to 4 classes.\n",
      "Found 315 images belonging to 4 classes.\n",
      "Epoch 1/2\n",
      "38/38 [==============================] - 77s 2s/step - loss: 22.6813 - accuracy: 0.2948 - val_loss: 24.0968 - val_accuracy: 0.3125\n",
      "Epoch 2/2\n",
      "38/38 [==============================] - 79s 2s/step - loss: 23.0950 - accuracy: 0.2630 - val_loss: 13.6723 - val_accuracy: 0.3750\n"
     ]
    }
   ],
   "source": [
    "try:\n",
    "    config = ConfigurationManager()\n",
    "    training_config = config.get_training_config()\n",
    "    training = Training(config=training_config)\n",
    "    training.get_base_model()\n",
    "    training.train_valid_generator()\n",
    "    training.train()\n",
    "    \n",
    "except Exception as e:\n",
    "    raise e"
   ]
  },
  {
   "cell_type": "code",
   "execution_count": null,
   "metadata": {},
   "outputs": [],
   "source": []
  }
 ],
 "metadata": {
  "kernelspec": {
   "display_name": "cancer",
   "language": "python",
   "name": "python3"
  },
  "language_info": {
   "codemirror_mode": {
    "name": "ipython",
    "version": 3
   },
   "file_extension": ".py",
   "mimetype": "text/x-python",
   "name": "python",
   "nbconvert_exporter": "python",
   "pygments_lexer": "ipython3",
   "version": "3.11.6"
  }
 },
 "nbformat": 4,
 "nbformat_minor": 2
}
